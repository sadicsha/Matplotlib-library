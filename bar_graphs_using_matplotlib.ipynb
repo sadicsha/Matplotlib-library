{
  "nbformat": 4,
  "nbformat_minor": 0,
  "metadata": {
    "colab": {
      "name": "bar graphs using matplotlib.ipynb",
      "provenance": []
    },
    "kernelspec": {
      "name": "python3",
      "display_name": "Python 3"
    },
    "language_info": {
      "name": "python"
    }
  },
  "cells": [
    {
      "cell_type": "markdown",
      "metadata": {
        "id": "0W-e3ShZlnyj"
      },
      "source": [
        "**VERTICAL BAR GRAPH**"
      ]
    },
    {
      "cell_type": "code",
      "metadata": {
        "id": "FxZbD2KveHRl"
      },
      "source": [
        "import matplotlib.pyplot as plt\n",
        "import numpy as np\n"
      ],
      "execution_count": 2,
      "outputs": []
    },
    {
      "cell_type": "markdown",
      "metadata": {
        "id": "IPy_JTaheh4E"
      },
      "source": [
        "**DEFINING THE DATA**"
      ]
    },
    {
      "cell_type": "code",
      "metadata": {
        "id": "McwWq2LIegby"
      },
      "source": [
        "N=5\n",
        "men = (25, -45, 37 , -56, 48)\n",
        "women = (47, -56, 54, -37, 29)\n",
        "menStd = (2,3,4,1,2)\n",
        "womenStd = (3,5,3,2,2)\n",
        "ind = np.arange(N)\n",
        "width =0.35"
      ],
      "execution_count": 16,
      "outputs": []
    },
    {
      "cell_type": "markdown",
      "metadata": {
        "id": "w6nN9GS0f4UV"
      },
      "source": [
        "**plotting the bar graph**"
      ]
    },
    {
      "cell_type": "code",
      "metadata": {
        "colab": {
          "base_uri": "https://localhost:8080/",
          "height": 281
        },
        "id": "f0iXnJXCf9cP",
        "outputId": "bce608de-459a-459c-c850-ad8762f8f68f"
      },
      "source": [
        "fig,ax =plt.subplots()\n",
        "\n",
        "p1=ax.bar(ind,men,width,yerr=menStd,label='MEN')\n",
        "p2=ax.bar(ind,women,width,bottom=menStd,yerr=womenStd,label='WOMEN')\n",
        "\n",
        "ax.axhline(0,color='grey',linewidth=0.8)\n",
        "ax.set_ylabel('SCORES')\n",
        "ax.set_title('SCORES BY GROUP AND GENDER')\n",
        "ax.set_xticks(ind)\n",
        "ax.set_xticklabels(('G1','G2','G3','G4','G5'))\n",
        "ax.legend()\n",
        "\n",
        "plt.show()"
      ],
      "execution_count": 21,
      "outputs": [
        {
          "output_type": "display_data",
          "data": {
            "image/png": "[encoded data removed]",
            "text/plain": [
              "<Figure size 432x288 with 1 Axes>"
            ]
          },
          "metadata": {
            "tags": [],
            "needs_background": "light"
          }
        }
      ]
    },
    {
      "cell_type": "markdown",
      "metadata": {
        "id": "7WTT75RTltJk"
      },
      "source": [
        "**HORIZONTAL BAR GRAPH**"
      ]
    },
    {
      "cell_type": "code",
      "metadata": {
        "colab": {
          "base_uri": "https://localhost:8080/",
          "height": 295
        },
        "id": "KXVTRbtKl2ZP",
        "outputId": "d1cae651-c743-4983-e34d-77f6be34a69f"
      },
      "source": [
        "#random seed is simply a function that sets the random seed of the NumPy pseudo-random number generator.\n",
        "#It provides an essential input that enables NumPy to generate pseudo-random numbers for random processes.\n",
        "np.random.seed(0)\n",
        "\n",
        "people=('SADICSHA','SAMRUDDHI','SHAGUN','SAKSHI','SONAL',)\n",
        "y_pos= np.arange(len(people))\n",
        "performance = 1+10*np.random.rand(len(people)) #random.rand() function creates an array of specified shape and fills it with random values\n",
        "error=np.random.rand(len(people))\n",
        "\n",
        "fig,ax=plt.subplots()\n",
        "\n",
        "hbars = ax.barh(y_pos,performance,xerr=error,align='center')\n",
        "ax.set_yticks(y_pos)\n",
        "ax.set_yticklabels(people)\n",
        "ax.invert_yaxis() #labels read top to bottom\n",
        "ax.set_xlabel('PERFORMANCE')\n",
        "ax.set_title('HOW FAST YOU WANNA GO??')\n",
        " \n",
        "\n",
        "\n",
        "plt.show()"
      ],
      "execution_count": 38,
      "outputs": [
        {
          "output_type": "display_data",
          "data": {
            "image/png": "[encoded data removed]",
            "text/plain": [
              "<Figure size 432x288 with 1 Axes>"
            ]
          },
          "metadata": {
            "tags": [],
            "needs_background": "light"
          }
        }
      ]
    },
    {
      "cell_type": "markdown",
      "metadata": {
        "id": "eyLQNWiYsnj5"
      },
      "source": [
        "**BAR GRAPH USING FUNCTIONS**"
      ]
    },
    {
      "cell_type": "code",
      "metadata": {
        "colab": {
          "base_uri": "https://localhost:8080/",
          "height": 350
        },
        "id": "2p9G9Yp7refv",
        "outputId": "80ecb0a3-e986-4daf-f4d6-201a99817727"
      },
      "source": [
        "# importing library\n",
        "import matplotlib.pyplot as plt\n",
        "\n",
        "# function to add value labels\n",
        "def addlabels(x,y):\n",
        "\tfor i in range(len(x)):\n",
        "\t\tplt.text(i, y[i], y[i], ha = 'center')\n",
        "\n",
        "if __name__ == '__main__':\n",
        "\t\n",
        "\t# creating data on which bar chart will be plot\n",
        "\tx = [\"Engineering\", \"Hotel Managment\",\n",
        "\t\t\"MBA\", \"Mass Communication\", \"BBA\",\n",
        "\t\t\"BSc\", \"MSc\"]\n",
        "\ty = [9330, 4050, 3030, 5500,\n",
        "\t\t8040, 4560, 6650]\n",
        "\t\n",
        "\t# setting figure size by using figure() function\n",
        "\tplt.figure(figsize = (10, 5))\n",
        "\t\n",
        "\t# making the bar chart on the data\n",
        "\tplt.bar(x, y)\n",
        "\t\n",
        "\t# calling the function to add value labels\n",
        "\taddlabels(x, y)\n",
        "\t\n",
        "\t# giving title to the plot\n",
        "\tplt.title(\"College Admission\")\n",
        "\t\n",
        "\t# giving X and Y labels\n",
        "\tplt.xlabel(\"Courses\")\n",
        "\tplt.ylabel(\"Number of Admissions\")\n",
        "\t\n",
        "\t# visualizing the plot\n",
        "\tplt.show()\n"
      ],
      "execution_count": 33,
      "outputs": [
        {
          "output_type": "display_data",
          "data": {
            "image/png": "[encoded data removed]",
            "text/plain": [
              "<Figure size 720x360 with 1 Axes>"
            ]
          },
          "metadata": {
            "tags": [],
            "needs_background": "light"
          }
        }
      ]
    }
  ]
}