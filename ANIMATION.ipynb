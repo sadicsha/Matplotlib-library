{
  "nbformat": 4,
  "nbformat_minor": 0,
  "metadata": {
    "colab": {
      "name": "ANIMATION.ipynb",
      "provenance": [],
      "authorship_tag": "ABX9TyOzHygzLwUaK/tX6LAyHJyM",
      "include_colab_link": true
    },
    "kernelspec": {
      "name": "python3",
      "display_name": "Python 3"
    },
    "language_info": {
      "name": "python"
    }
  },
  "cells": [
    {
      "cell_type": "markdown",
      "metadata": {
        "id": "view-in-github",
        "colab_type": "text"
      },
      "source": [
        "<a href=\"https://colab.research.google.com/github/sadicsha/SADICSHA_KHANDAIT_Matplotlib-library/blob/main/ANIMATION.ipynb\" target=\"_parent\"><img src=\"https://colab.research.google.com/assets/colab-badge.svg\" alt=\"Open In Colab\"/></a>"
      ]
    },
    {
      "cell_type": "markdown",
      "metadata": {
        "id": "0aB15ObSeVkX"
      },
      "source": [
        "ANIMATED HISTOGRAM"
      ]
    },
    {
      "cell_type": "code",
      "metadata": {
        "id": "0orqwMSjcq6k"
      },
      "source": [
        "import numpy as np\n",
        "\n",
        "import matplotlib.pyplot as plt\n",
        "import matplotlib.animation as animation\n",
        "\n",
        "# Fixing random state for reproducibility\n",
        "np.random.seed(19680801)\n",
        "# Fixing bin edges\n",
        "HIST_BINS = np.linspace(-4, 4, 100)\n",
        "\n",
        "# histogram our data with numpy\n",
        "data = np.random.randn(1000)\n",
        "n, _ = np.histogram(data, HIST_BINS)"
      ],
      "execution_count": 3,
      "outputs": []
    },
    {
      "cell_type": "code",
      "metadata": {
        "id": "2biPuUJUdM2y"
      },
      "source": [
        "def prepare_animation(bar_container):\n",
        "\n",
        "    def animate(frame_number):\n",
        "        # simulate new data coming in\n",
        "        data = np.random.randn(1000)\n",
        "        n, _ = np.histogram(data, HIST_BINS)\n",
        "        for count, rect in zip(n, bar_container.patches):\n",
        "            rect.set_height(count)\n",
        "        return bar_container.patches\n",
        "    return animate"
      ],
      "execution_count": 4,
      "outputs": []
    },
    {
      "cell_type": "code",
      "metadata": {
        "colab": {
          "base_uri": "https://localhost:8080/",
          "height": 466
        },
        "id": "fYN4VoeydTyL",
        "outputId": "ea795a5a-1919-43ed-95bc-37d30fad6512"
      },
      "source": [
        "fig, ax = plt.subplots()\n",
        "_, _, bar_container = ax.hist(data, HIST_BINS, lw=1,\n",
        "                              ec=\"yellow\", fc=\"green\", alpha=0.5)\n",
        "ax.set_ylim(top=55)  # set safe limit to ensure that all data is visible.\n",
        "\n",
        "ani = animation.FuncAnimation(fig, prepare_animation(bar_container), 50,\n",
        "                              repeat=False, blit=True)\n",
        "plt.show()"
      ],
      "execution_count": 5,
      "outputs": [
        {
          "output_type": "stream",
          "text": [
            "Traceback (most recent call last):\n",
            "  File \"/usr/local/lib/python3.7/dist-packages/matplotlib/cbook/__init__.py\", line 196, in process\n",
            "    func(*args, **kwargs)\n",
            "  File \"/usr/local/lib/python3.7/dist-packages/matplotlib/animation.py\", line 951, in _start\n",
            "    self._init_draw()\n",
            "  File \"/usr/local/lib/python3.7/dist-packages/matplotlib/animation.py\", line 1743, in _init_draw\n",
            "    self._draw_frame(next(self.new_frame_seq()))\n",
            "  File \"/usr/local/lib/python3.7/dist-packages/matplotlib/animation.py\", line 1766, in _draw_frame\n",
            "    self._drawn_artists = self._func(framedata, *self._args)\n",
            "  File \"<ipython-input-4-8518a551f443>\", line 7, in animate\n",
            "    for count, rect in zip(n, bar_container.patches):\n",
            "AttributeError: 'silent_list' object has no attribute 'patches'\n"
          ],
          "name": "stderr"
        },
        {
          "output_type": "display_data",
          "data": {
            "image/png": "[encoded data removed]",
            "text/plain": [
              "<Figure size 432x288 with 1 Axes>"
            ]
          },
          "metadata": {
            "tags": [],
            "needs_background": "light"
          }
        }
      ]
    },
    {
      "cell_type": "markdown",
      "metadata": {
        "id": "svP_Yhq2ehyZ"
      },
      "source": [
        "DECAY"
      ]
    },
    {
      "cell_type": "code",
      "metadata": {
        "colab": {
          "base_uri": "https://localhost:8080/",
          "height": 265
        },
        "id": "9ANjaiAPeiTl",
        "outputId": "3ea3f0ab-526e-43f0-c69c-c6161d482239"
      },
      "source": [
        "import itertools\n",
        "\n",
        "import numpy as np\n",
        "import matplotlib.pyplot as plt\n",
        "import matplotlib.animation as animation\n",
        "\n",
        "\n",
        "def data_gen():\n",
        "    for cnt in itertools.count():\n",
        "        t = cnt / 10\n",
        "        yield t, np.sin(2*np.pi*t) * np.exp(-t/10.)\n",
        "\n",
        "\n",
        "def init():\n",
        "    ax.set_ylim(-1.1, 1.1)\n",
        "    ax.set_xlim(0, 10)\n",
        "    del xdata[:]\n",
        "    del ydata[:]\n",
        "    line.set_data(xdata, ydata)\n",
        "    return line,\n",
        "\n",
        "fig, ax = plt.subplots()\n",
        "line, = ax.plot([], [], lw=2)\n",
        "ax.grid()\n",
        "xdata, ydata = [], []\n",
        "\n",
        "\n",
        "def run(data):\n",
        "    # update the data\n",
        "    t, y = data\n",
        "    xdata.append(t)\n",
        "    ydata.append(y)\n",
        "    xmin, xmax = ax.get_xlim()\n",
        "\n",
        "    if t >= xmax:\n",
        "        ax.set_xlim(xmin, 2*xmax)\n",
        "        ax.figure.canvas.draw()\n",
        "    line.set_data(xdata, ydata)\n",
        "\n",
        "    return line,\n",
        "\n",
        "ani = animation.FuncAnimation(fig, run, data_gen, interval=10, init_func=init)\n",
        "plt.show()"
      ],
      "execution_count": 6,
      "outputs": [
        {
          "output_type": "display_data",
          "data": {
            "image/png": "[encoded data removed]",
            "text/plain": [
              "<Figure size 432x288 with 1 Axes>"
            ]
          },
          "metadata": {
            "tags": [],
            "needs_background": "light"
          }
        }
      ]
    }
  ]
}